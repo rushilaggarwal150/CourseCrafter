{
 "cells": [
  {
   "cell_type": "code",
   "execution_count": 1,
   "metadata": {},
   "outputs": [],
   "source": [
    "from openai import OpenAI\n",
    "from dotenv import load_dotenv\n",
    "load_dotenv()\n",
    "import os"
   ]
  },
  {
   "cell_type": "code",
   "execution_count": 2,
   "metadata": {},
   "outputs": [],
   "source": [
    "OPENAI_API_KEY = os.getenv('OPENAI_API_KEY')\n",
    "client = OpenAI(api_key=OPENAI_API_KEY)"
   ]
  },
  {
   "cell_type": "code",
   "execution_count": 3,
   "metadata": {},
   "outputs": [
    {
     "name": "stdout",
     "output_type": "stream",
     "text": [
      "ChatCompletion(id='chatcmpl-8KCuJeqI17HzuBzW9CmMN3umSihCN', choices=[Choice(finish_reason='length', index=0, message=ChatCompletionMessage(content=\"Ahoy, me hearties! Gather 'round and listen up, for I have a tale to tell ye about the ChatGPT API, arrr!\\n\\nAvast ye, landlubbers! The ChatGPT API be a treasure trove of linguistic power, aye. It be a way to interact with the mighty ChatGPT using a simple HTTP interface. With just a few lines of code, ye can tap into the vast knowledge and wit of this AI matey.\\n\\nWith the ChatGPT API, ye can ask questions, seek advice, or have a jolly conversation with this clever AI. It be like havin' a parrot on yer shoulder, but one that knows more than just squawkin'! Whether ye be a developer, a business, or a curious soul, this API be a boon to ye.\\n\\nPicture this, me hearties: ye be buildin' a chatbot, a virtual assistant, or even a game character. The ChatGPT API be yer trusty cutlass, ready to slash through the waves of uncertainty. It can help ye create dynamic and interactive experiences for yer users, makin' 'em feel like they be chattin' with a real scallywag.\\n\\nBut that ain't\", role='assistant', function_call=None, tool_calls=None))], created=1699826867, model='gpt-3.5-turbo-0613', object='chat.completion', system_fingerprint=None, usage=CompletionUsage(completion_tokens=256, prompt_tokens=23, total_tokens=279))\n"
     ]
    }
   ],
   "source": [
    "response = client.chat.completions.create(\n",
    "  model=\"gpt-3.5-turbo\",\n",
    "  messages=[{\"role\": \"user\", \"content\": \"Tell the world about the ChatGPT API in the style of a pirate.\"}],\n",
    "  temperature=0,\n",
    "  max_tokens=256\n",
    ")\n",
    "print(response)"
   ]
  },
  {
   "cell_type": "code",
   "execution_count": 15,
   "metadata": {},
   "outputs": [
    {
     "name": "stdout",
     "output_type": "stream",
     "text": [
      "Ahoy, me hearties! Gather 'round and listen up, for I have a tale to tell ye about the ChatGPT API, arrr!\n",
      "\n",
      "Avast ye, landlubbers! The ChatGPT API be a treasure trove of linguistic power, aye. It be a way to interact with the mighty ChatGPT using a simple HTTP interface. With just a few lines of code, ye can tap into the vast knowledge and wit of this AI matey.\n",
      "\n",
      "With the ChatGPT API, ye can ask questions, seek advice, or have a jolly conversation with this clever AI. It be like havin' a parrot on yer shoulder, but one that knows more than just squawkin'! Whether ye be a developer, a business, or a curious soul, this API be a boon to ye.\n",
      "\n",
      "Picture this, me hearties: ye be buildin' a chatbot, a virtual assistant, or even a game character. The ChatGPT API be yer trusty cutlass, ready to slash through the waves of uncertainty. It can help ye create dynamic and interactive experiences for yer users, makin' 'em feel like they be chattin' with a real scallywag.\n",
      "\n",
      "But that ain't\n"
     ]
    }
   ],
   "source": [
    "message = response.choices[0].message.content\n",
    "print(message)"
   ]
  }
 ],
 "metadata": {
  "kernelspec": {
   "display_name": "Python 3",
   "language": "python",
   "name": "python3"
  },
  "language_info": {
   "codemirror_mode": {
    "name": "ipython",
    "version": 3
   },
   "file_extension": ".py",
   "mimetype": "text/x-python",
   "name": "python",
   "nbconvert_exporter": "python",
   "pygments_lexer": "ipython3",
   "version": "3.11.2"
  }
 },
 "nbformat": 4,
 "nbformat_minor": 2
}
